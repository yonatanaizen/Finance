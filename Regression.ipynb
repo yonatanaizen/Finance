{
 "cells": [
  {
   "cell_type": "markdown",
   "source": [
    "# Regression\n",
    "In this file, I will calculate the coefficient $\\beta$ for different stocks. We will define $y$ as the stock and $X$ as the reference index. The coefficient $\\beta$ represents the expected percent change in the stock (y) for each unit (percent) change in the reference index (X).\n",
    "$\\hat{\\beta}$ is the parameter that minimizes $argmin(y-\\hat{y}) = argmin(y-\\beta \\cdot x) = argmin(||y-XB||^2)$. Therefore, the estimated value of $\\beta$ can be calculated as $\\hat{\\beta} = (X^TX)^{-1}X^TY$."
   ],
   "metadata": {
    "collapsed": false
   }
  },
  {
   "cell_type": "code",
   "execution_count": 2,
   "metadata": {
    "collapsed": true
   },
   "outputs": [],
   "source": [
    "import matplotlib.pyplot as plt\n",
    "import pandas as pd\n",
    "import yfinance as yf\n",
    "import datetime as datetime\n",
    "import numpy as np\n",
    "import statsmodels.api as sm"
   ]
  },
  {
   "cell_type": "code",
   "execution_count": 3,
   "outputs": [
    {
     "data": {
      "text/plain": "1    1.03\n2   -1.06\n3    3.68\n4    0.41\n5    0.45\nName: Close, dtype: float64"
     },
     "execution_count": 3,
     "metadata": {},
     "output_type": "execute_result"
    }
   ],
   "source": [
    "\n",
    "def adjust(stock,start='2022-01-01'):\n",
    "    \"\"\"\n",
    "    A function that gets the input: name of the stock and period.\n",
    "    The function returns a DataFrame (df) containing the close prices of the stock.\n",
    "\n",
    "    Parameters:\n",
    "        stock (str): The stock name or ticker symbol.\n",
    "        start (str): The start date of the period. Default is '2022-01-01'.\n",
    "\n",
    "    Returns:\n",
    "        pandas.Series: A Series containing the close prices of the stock.\n",
    "    \"\"\"\n",
    "    stock = yf.Ticker(stock)\n",
    "    stock=pd.DataFrame(stock.history(start= start, end=datetime.date.today())).reset_index() # creat_df\n",
    "    stock=stock['Close'].pct_change()[1:]*100\n",
    "    return(stock.round(2))\n",
    "adjust('aapl',start='2023-01-01').head()"
   ],
   "metadata": {
    "collapsed": false
   }
  },
  {
   "cell_type": "code",
   "execution_count": 5,
   "outputs": [
    {
     "data": {
      "text/plain": "      Beta  R_squared\nAAPL  0.99      0.784",
      "text/html": "<div>\n<style scoped>\n    .dataframe tbody tr th:only-of-type {\n        vertical-align: middle;\n    }\n\n    .dataframe tbody tr th {\n        vertical-align: top;\n    }\n\n    .dataframe thead th {\n        text-align: right;\n    }\n</style>\n<table border=\"1\" class=\"dataframe\">\n  <thead>\n    <tr style=\"text-align: right;\">\n      <th></th>\n      <th>Beta</th>\n      <th>R_squared</th>\n    </tr>\n  </thead>\n  <tbody>\n    <tr>\n      <th>AAPL</th>\n      <td>0.99</td>\n      <td>0.784</td>\n    </tr>\n  </tbody>\n</table>\n</div>"
     },
     "execution_count": 5,
     "metadata": {},
     "output_type": "execute_result"
    }
   ],
   "source": [
    "def reg(name_of_stock,reference_index='^IXIC'):\n",
    "    \"\"\"\n",
    "    A function that gets the name of the stock and returns the beta that is adjusted to its market\n",
    "    and its R-squared value. By default, the point of reference is the Nasdaq index,\n",
    "    and the result is derived from linear regression.\n",
    "\n",
    "    Parameters:\n",
    "        name_of_stock (str): The stock name or ticker symbol.\n",
    "        reference_index (str): The reference index. Default is '^IXIC' (Nasdaq index).\n",
    "\n",
    "    Returns:\n",
    "        pandas.DataFrame: A DataFrame containing the beta and R-squared values.\n",
    "    \"\"\"\n",
    "    y=adjust(name_of_stock)# get data of the stock and assign it to the variable y\n",
    "    x=adjust(reference_index)# get data of the stock index and assign it to the variable x\n",
    "    reg_df=pd.DataFrame([y,x],index=[name_of_stock,'^ixic']).T # create a df\n",
    "    reg_df=sm.add_constant(reg_df,prepend=False)# add constant to df\n",
    "    mod=sm.OLS(reg_df[name_of_stock],reg_df[reg_df.columns[1:]])\n",
    "    res=mod.fit()\n",
    "    result=pd.DataFrame([[res.params[0],res.rsquared]],columns=['Beta','R_squared'],index=[name_of_stock.upper()]).round(3) # assign Beta and 'R_squared' in data frame\n",
    "\n",
    "    return result\n",
    "reg('aapl')\n"
   ],
   "metadata": {
    "collapsed": false
   }
  },
  {
   "cell_type": "code",
   "execution_count": 6,
   "outputs": [
    {
     "data": {
      "text/plain": "       Beta  R_squared\nNVDA  1.805      0.686\nAMZN  1.321      0.670\nMSFT  1.011      0.747\nAAPL  0.990      0.784",
      "text/html": "<div>\n<style scoped>\n    .dataframe tbody tr th:only-of-type {\n        vertical-align: middle;\n    }\n\n    .dataframe tbody tr th {\n        vertical-align: top;\n    }\n\n    .dataframe thead th {\n        text-align: right;\n    }\n</style>\n<table border=\"1\" class=\"dataframe\">\n  <thead>\n    <tr style=\"text-align: right;\">\n      <th></th>\n      <th>Beta</th>\n      <th>R_squared</th>\n    </tr>\n  </thead>\n  <tbody>\n    <tr>\n      <th>NVDA</th>\n      <td>1.805</td>\n      <td>0.686</td>\n    </tr>\n    <tr>\n      <th>AMZN</th>\n      <td>1.321</td>\n      <td>0.670</td>\n    </tr>\n    <tr>\n      <th>MSFT</th>\n      <td>1.011</td>\n      <td>0.747</td>\n    </tr>\n    <tr>\n      <th>AAPL</th>\n      <td>0.990</td>\n      <td>0.784</td>\n    </tr>\n  </tbody>\n</table>\n</div>"
     },
     "execution_count": 6,
     "metadata": {},
     "output_type": "execute_result"
    }
   ],
   "source": [
    "def matrix_of_regression():\n",
    "    \"\"\"\n",
    "    A function that creates a DataFrame with indexes of the name of stocks and columns containing\n",
    "    the stock's beta and the R-squared of that stock. The default reference here is the Nasdaq index.\n",
    "\n",
    "    Returns:\n",
    "        pandas.DataFrame: A DataFrame containing the beta and R-squared values for each stock.\n",
    "    \"\"\"\n",
    "    regression_df=pd.DataFrame(index=['Beta','R_squared'],columns=[]) # create a df\n",
    "    names_of_stocks = ['MSFT', 'AAPL', 'NVDA', 'AMZN']# We are interested in these stocks\n",
    "    for i in names_of_stocks: # A loop that gives for each stock the Beta and R_squared\n",
    "        result_of_reg=reg(i) # Using the function reg\n",
    "        regression_df[i]=[float(result_of_reg['Beta']),float(result_of_reg['R_squared'])]\n",
    "    regression_df=regression_df.T # Transpose the df\n",
    "    return regression_df.sort_values(by='Beta',ascending=False) # return sorted df(by beta).\n",
    "matrix_of_regression()\n",
    "\n"
   ],
   "metadata": {
    "collapsed": false
   }
  },
  {
   "cell_type": "code",
   "execution_count": 7,
   "outputs": [
    {
     "data": {
      "text/plain": "      Beta  R_squared\nAAPL  0.99      0.784",
      "text/html": "<div>\n<style scoped>\n    .dataframe tbody tr th:only-of-type {\n        vertical-align: middle;\n    }\n\n    .dataframe tbody tr th {\n        vertical-align: top;\n    }\n\n    .dataframe thead th {\n        text-align: right;\n    }\n</style>\n<table border=\"1\" class=\"dataframe\">\n  <thead>\n    <tr style=\"text-align: right;\">\n      <th></th>\n      <th>Beta</th>\n      <th>R_squared</th>\n    </tr>\n  </thead>\n  <tbody>\n    <tr>\n      <th>AAPL</th>\n      <td>0.99</td>\n      <td>0.784</td>\n    </tr>\n  </tbody>\n</table>\n</div>"
     },
     "execution_count": 7,
     "metadata": {},
     "output_type": "execute_result"
    },
    {
     "data": {
      "text/plain": "<Figure size 640x480 with 1 Axes>",
      "image/png": "[encoded data removed]"
     },
     "metadata": {},
     "output_type": "display_data"
    }
   ],
   "source": [
    "def simulation_reg(name_of_stock,reference_index='^ixic'):\n",
    "    \"\"\"\n",
    "    A function that performs a simulation of regression analysis for a given stock and reference index.\n",
    "    It calculates the beta and R-squared values and visualizes the relationship using a CCPR plot.\n",
    "\n",
    "    Parameters:\n",
    "        name_of_stock (str): The stock name or ticker symbol.\n",
    "        reference_index (str): The reference index. Default is '^ixic' (Nasdaq index).\n",
    "\n",
    "    Returns:\n",
    "        pandas.DataFrame: A DataFrame containing the beta and R-squared values.\n",
    "\n",
    "    Comments:\n",
    "        - The function internally calls the 'adjust' function to retrieve stock data.\n",
    "        - The CCPR plot is adjusted to highlight the stock data line in red.\n",
    "    \"\"\"\n",
    "    y=adjust(name_of_stock)# get data of the stock and assign it to the variable y\n",
    "    x=adjust(reference_index)# get data of the stock index and assign it to the variable x\n",
    "\n",
    "    reg_df=pd.DataFrame([y,x],index=[name_of_stock,'^ixic']).T # create a df\n",
    "    reg_df=sm.add_constant(reg_df,prepend=False)# add constant to df\n",
    "    mod=sm.OLS(reg_df[name_of_stock],reg_df[reg_df.columns[1:]])\n",
    "    res=mod.fit()\n",
    "\n",
    "    result=pd.DataFrame([[res.params[0],res.rsquared]],columns=['Beta','R_squared'],index=[name_of_stock.upper()]).round(3) # assign Beta and 'R_squared' in data frame\n",
    "    'adjust the plot'\n",
    "\n",
    "    fig=sm.graphics.plot_ccpr_grid(res)\n",
    "    fig.tight_layout(pad=1.0)\n",
    "    fig.axes[0].set_ylabel(f'{name_of_stock}')\n",
    "    fig.axes[0].get_lines()[1].set_color('red')\n",
    "\n",
    "\n",
    "    fig.suptitle('Regression')\n",
    "\n",
    "    return result\n",
    "simulation_reg('aapl')\n"
   ],
   "metadata": {
    "collapsed": false
   }
  }
 ],
 "metadata": {
  "kernelspec": {
   "display_name": "Python 3",
   "language": "python",
   "name": "python3"
  },
  "language_info": {
   "codemirror_mode": {
    "name": "ipython",
    "version": 2
   },
   "file_extension": ".py",
   "mimetype": "text/x-python",
   "name": "python",
   "nbconvert_exporter": "python",
   "pygments_lexer": "ipython2",
   "version": "2.7.6"
  }
 },
 "nbformat": 4,
 "nbformat_minor": 0
}
