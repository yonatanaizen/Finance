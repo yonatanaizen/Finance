{
 "cells": [
  {
   "cell_type": "markdown",
   "source": [
    "# Bayes\n",
    "\n",
    "In this file I will compute the probability that the next day will be positive.\n",
    "To do this computation, I am using Bayes' formula:$P(A|B)=\\frac{P(A\\bigcap{B})}{P(B)}$.\n",
    "$P(A\\bigcap{B})$represents the possibility that the next day will be positive,\n",
    "and B represents all the possibilities we have in the current state with the knowledge of the last sequence.\n",
    "To gather information about these events, I used historical data of the stock and calculated the probability for each case.\n"
   ],
   "metadata": {
    "collapsed": false
   }
  },
  {
   "cell_type": "code",
   "execution_count": 1,
   "metadata": {
    "collapsed": true
   },
   "outputs": [],
   "source": [
    "import pandas as pd\n",
    "import yfinance as yf\n",
    "import datetime as datetime"
   ]
  },
  {
   "cell_type": "code",
   "execution_count": 2,
   "outputs": [
    {
     "name": "stdout",
     "output_type": "stream",
     "text": [
      "[*********************100%***********************]  1 of 1 completed\n"
     ]
    },
    {
     "data": {
      "text/plain": "1    4.40\n2   -0.28\n3    0.80\n4   -1.32\n5   -1.48\nName: Close, dtype: float64"
     },
     "execution_count": 2,
     "metadata": {},
     "output_type": "execute_result"
    }
   ],
   "source": [
    "\n",
    "def adjust(stock,t,start='2021-01-01'):\n",
    "    \"\"\"\n",
    "    A function that retrieves the price of a stock throughout a specified period.\n",
    "\n",
    "    Parameters:\n",
    "        stock (str): The stock name or ticker symbol.\n",
    "        t (str): The option to consider for the current price. 'N' ignores the current price and provides the price up until the current moment.\n",
    "                  'Y' includes the current price.\n",
    "        start (str): The start date of the period. Format: 'YYYY-MM-DD'. Default is '2021-01-01'.\n",
    "\n",
    "    Returns:\n",
    "        pandas.Series: A series containing the price changes of the stock over the specified period.\n",
    "        \"\"\"\n",
    "    stock=pd.DataFrame(yf.download(stock,start=start)).reset_index()\n",
    "    if t=='N': # Ignore the current price\n",
    "        stock=stock[:-1]\n",
    "    stock=stock['Close'].pct_change()[1:]*100 # change to percent\n",
    "    return(stock.round(2))\n",
    "adjust('ba',t='N').head()"
   ],
   "metadata": {
    "collapsed": false
   }
  },
  {
   "cell_type": "code",
   "execution_count": 3,
   "outputs": [],
   "source": [
    "def dict_of_days(neg,name_of_stock,t=0):\n",
    "    \"\"\"\n",
    "    A function that computes specific stock sequences consisting of positive or negative days and determines\n",
    "    how many times each series appeared. The function takes a stock name as input and returns a DataFrame\n",
    "    along with the length of the last sequence. The DataFrame contains all possible sequences and the frequency\n",
    "    of each series occurrence.\n",
    "\n",
    "    Parameters:\n",
    "        neg (bool): If True, computes negative sequences. If False, computes positive sequences.\n",
    "        name_of_stock (str): The stock name or ticker symbol.\n",
    "        t (int): The option to consider for the current price. Default is 0.\n",
    "\n",
    "    Returns:\n",
    "        pandas.DataFrame: A DataFrame containing all possible sequences and the frequency of each series occurrence.\n",
    "        int: The length of the last sequence.\n",
    "    \"\"\"\n",
    "    stock=adjust(name_of_stock,t=t)\n",
    "\n",
    "    d_dict={}\n",
    "    count=0\n",
    "    if neg ==True: # if we want neg sequence\n",
    "        for i in stock:\n",
    "            if i<0 :\n",
    "                count+=1\n",
    "            else:\n",
    "                try:\n",
    "                    d_dict.update({count:d_dict[count]+1})\n",
    "                except:\n",
    "                    d_dict[count]=1\n",
    "\n",
    "                count=0\n",
    "    else:# 'if we want pos sequence '\n",
    "        for i in stock:  # save each appearance in the dict\n",
    "            if i>=0 : # check if the current day is positive\n",
    "                count+=1\n",
    "            else:\n",
    "                try: # try to update the dict if the keys was stored before\n",
    "                    d_dict.update({count:d_dict[count]+1})\n",
    "                except: # if not create a new keys\n",
    "                    d_dict[count]=1\n",
    "\n",
    "                count=0  # restart the count\n",
    "\n",
    "    data_frame_d=pd.DataFrame([list(d_dict.keys()),list((d_dict.values()))],index=['index of day','numbers of occurs']).T\n",
    "    data_frame_d=data_frame_d.sort_values(by='index of day').reset_index(drop=True)\n",
    "    data_frame_d=data_frame_d.iloc[1:].reset_index(drop=True)\n",
    "\n",
    "    return (data_frame_d,count)\n"
   ],
   "metadata": {
    "collapsed": false
   }
  },
  {
   "cell_type": "code",
   "execution_count": 4,
   "outputs": [],
   "source": [
    "\n",
    "def cal_prob(name_of_stock,t,neg=False):\n",
    "    \"\"\"\n",
    "    A function that computes the probability that the current day will be positive for any given sequence of days.\n",
    "    The function takes a stock name as input and, based on the knowledge of the last sequence, utilizes Bayes's rule\n",
    "    to determine the likelihood of a positive probability.\n",
    "\n",
    "    Parameters:\n",
    "        name_of_stock (str): The stock name or ticker symbol.\n",
    "        t (int): The option to consider for the current price.\n",
    "        neg (bool): If True, computes negative sequences. If False, computes positive sequences. Default is False.\n",
    "\n",
    "    Returns:\n",
    "        float: The probability of the current day being positive.\n",
    "        int: The length of the last sequence.\n",
    "        int: The total number of occurrences of the last sequence.\n",
    "    \"\"\"\n",
    "    sum_d,c=dict_of_days(neg,name_of_stock,t) # get the seq\n",
    "    numerator=sum_d[sum_d['index of day']>c]['numbers of occurs'].sum()  # take all the sum of days that I have more negative days than now\n",
    "    denominator=sum_d[sum_d['index of day']==c]['numbers of occurs'].values[0]+numerator if sum_d['index of day'].isin([c]).any()  else numerator # t\n",
    "    N=denominator\n",
    "    if denominator!=0:\n",
    "        prob = 1-(numerator/(denominator)) if neg ==True else numerator/denominator   # take the correct prob\n",
    "    try:\n",
    "        return((round(float(prob),3)),c,N)\n",
    "    except:  # if we dont have a data we take 0.5\n",
    "        return(0.5,c,N)\n"
   ],
   "metadata": {
    "collapsed": false
   }
  },
  {
   "cell_type": "code",
   "execution_count": 5,
   "outputs": [],
   "source": [
    "\n",
    "def calculate_Bayes(name_of_stock,t=0):\n",
    "    \"\"\"\n",
    "    A function that takes the name of a stock as input and returns the following information:\n",
    "    the last sequence of the stock's performance (whether it was positive or negative),\n",
    "    the length of that sequence, and the probability that the next day will be positive.\n",
    "\n",
    "    Parameters:\n",
    "        name_of_stock (str): The stock name or ticker symbol.\n",
    "        t (int): The option to consider for the current price. Default is 0.\n",
    "\n",
    "    Returns:\n",
    "        list: A list containing the stock name, the last sequence (P for positive or N for negative),\n",
    "              the length of the sequence, the probability of the next day being positive.\n",
    "    \"\"\"\n",
    "    today=datetime.date.today() # get the current date\n",
    "    date_of_start=today-datetime.timedelta(days=30)\n",
    "    stock=adjust(name_of_stock,start=date_of_start,t=t)\n",
    "    'Check the current sequence if it was positive or negative. and go calculated for this the specific sequence the probability for positive day'\n",
    "    seq='P' if list(stock)[-1]>0 else 'N'\n",
    "    neg=False if list(stock)[-1]>=0 else True\n",
    "    r=cal_prob(name_of_stock,t,neg=neg)\n",
    "\n",
    "    return [name_of_stock.upper(),seq,r[1],r[0],r[2]]\n"
   ],
   "metadata": {
    "collapsed": false
   }
  },
  {
   "cell_type": "code",
   "execution_count": 8,
   "outputs": [
    {
     "name": "stdout",
     "output_type": "stream",
     "text": [
      "[*********************100%***********************]  1 of 1 completed\n",
      "[*********************100%***********************]  1 of 1 completed\n",
      "[*********************100%***********************]  1 of 1 completed\n",
      "[*********************100%***********************]  1 of 1 completed\n",
      "[*********************100%***********************]  1 of 1 completed\n",
      "[*********************100%***********************]  1 of 1 completed\n",
      "[*********************100%***********************]  1 of 1 completed\n",
      "[*********************100%***********************]  1 of 1 completed\n",
      "[*********************100%***********************]  1 of 1 completed\n",
      "[*********************100%***********************]  1 of 1 completed\n",
      "[*********************100%***********************]  1 of 1 completed\n",
      "[*********************100%***********************]  1 of 1 completed\n",
      "[*********************100%***********************]  1 of 1 completed\n",
      "[*********************100%***********************]  1 of 1 completed\n",
      "[*********************100%***********************]  1 of 1 completed\n",
      "[*********************100%***********************]  1 of 1 completed\n",
      "[*********************100%***********************]  1 of 1 completed\n",
      "[*********************100%***********************]  1 of 1 completed\n",
      "[*********************100%***********************]  1 of 1 completed\n",
      "[*********************100%***********************]  1 of 1 completed\n",
      "[*********************100%***********************]  1 of 1 completed\n",
      "[*********************100%***********************]  1 of 1 completed\n",
      "[*********************100%***********************]  1 of 1 completed\n",
      "[*********************100%***********************]  1 of 1 completed\n",
      "[*********************100%***********************]  1 of 1 completed\n",
      "[*********************100%***********************]  1 of 1 completed\n",
      "[*********************100%***********************]  1 of 1 completed\n",
      "[*********************100%***********************]  1 of 1 completed\n",
      "[*********************100%***********************]  1 of 1 completed\n",
      "[*********************100%***********************]  1 of 1 completed\n",
      "[*********************100%***********************]  1 of 1 completed\n",
      "[*********************100%***********************]  1 of 1 completed\n",
      "[*********************100%***********************]  1 of 1 completed\n",
      "[*********************100%***********************]  1 of 1 completed\n",
      "[*********************100%***********************]  1 of 1 completed\n",
      "[*********************100%***********************]  1 of 1 completed\n",
      "[*********************100%***********************]  1 of 1 completed\n",
      "[*********************100%***********************]  1 of 1 completed\n",
      "[*********************100%***********************]  1 of 1 completed\n",
      "[*********************100%***********************]  1 of 1 completed\n",
      "[*********************100%***********************]  1 of 1 completed\n",
      "[*********************100%***********************]  1 of 1 completed\n",
      "[*********************100%***********************]  1 of 1 completed\n",
      "[*********************100%***********************]  1 of 1 completed\n",
      "[*********************100%***********************]  1 of 1 completed\n",
      "[*********************100%***********************]  1 of 1 completed\n"
     ]
    },
    {
     "data": {
      "text/plain": "    Name Seq Length of seq   Prob    N\n0     RL   P             4   0.75   20\n1     BA   N             2  0.556   81\n2   SBUX   N             1  0.554  166\n3   DELL   N             1  0.539  165\n4   HACK   N             1  0.528  161\n5   UBER   N             1  0.506  162\n6   AMZN   N             2  0.506   83\n7    BUG   N             1  0.497  163\n8    UAL   N             2  0.493   75\n9    UAL   N             2  0.493   75\n10  AAPL   N             1  0.491  161\n11     M   N             2  0.487   78\n12   MCS   P             4  0.478   23\n13  IMAX   P             1  0.478  157\n14   AMD   N             1  0.459  157\n15  WCLD   N             2  0.453   75\n16   CNK   P             5  0.444    9\n17  LYFT   N             2  0.443   88\n18  MSFT   N             1   0.44  159\n19  SPOT   N             1  0.424  151\n20  NVDA   N             2  0.418   79\n21  ARKQ   N             2  0.375   72\n22   ANF   N             3  0.355   31",
      "text/html": "<div>\n<style scoped>\n    .dataframe tbody tr th:only-of-type {\n        vertical-align: middle;\n    }\n\n    .dataframe tbody tr th {\n        vertical-align: top;\n    }\n\n    .dataframe thead th {\n        text-align: right;\n    }\n</style>\n<table border=\"1\" class=\"dataframe\">\n  <thead>\n    <tr style=\"text-align: right;\">\n      <th></th>\n      <th>Name</th>\n      <th>Seq</th>\n      <th>Length of seq</th>\n      <th>Prob</th>\n      <th>N</th>\n    </tr>\n  </thead>\n  <tbody>\n    <tr>\n      <th>0</th>\n      <td>RL</td>\n      <td>P</td>\n      <td>4</td>\n      <td>0.75</td>\n      <td>20</td>\n    </tr>\n    <tr>\n      <th>1</th>\n      <td>BA</td>\n      <td>N</td>\n      <td>2</td>\n      <td>0.556</td>\n      <td>81</td>\n    </tr>\n    <tr>\n      <th>2</th>\n      <td>SBUX</td>\n      <td>N</td>\n      <td>1</td>\n      <td>0.554</td>\n      <td>166</td>\n    </tr>\n    <tr>\n      <th>3</th>\n      <td>DELL</td>\n      <td>N</td>\n      <td>1</td>\n      <td>0.539</td>\n      <td>165</td>\n    </tr>\n    <tr>\n      <th>4</th>\n      <td>HACK</td>\n      <td>N</td>\n      <td>1</td>\n      <td>0.528</td>\n      <td>161</td>\n    </tr>\n    <tr>\n      <th>5</th>\n      <td>UBER</td>\n      <td>N</td>\n      <td>1</td>\n      <td>0.506</td>\n      <td>162</td>\n    </tr>\n    <tr>\n      <th>6</th>\n      <td>AMZN</td>\n      <td>N</td>\n      <td>2</td>\n      <td>0.506</td>\n      <td>83</td>\n    </tr>\n    <tr>\n      <th>7</th>\n      <td>BUG</td>\n      <td>N</td>\n      <td>1</td>\n      <td>0.497</td>\n      <td>163</td>\n    </tr>\n    <tr>\n      <th>8</th>\n      <td>UAL</td>\n      <td>N</td>\n      <td>2</td>\n      <td>0.493</td>\n      <td>75</td>\n    </tr>\n    <tr>\n      <th>9</th>\n      <td>UAL</td>\n      <td>N</td>\n      <td>2</td>\n      <td>0.493</td>\n      <td>75</td>\n    </tr>\n    <tr>\n      <th>10</th>\n      <td>AAPL</td>\n      <td>N</td>\n      <td>1</td>\n      <td>0.491</td>\n      <td>161</td>\n    </tr>\n    <tr>\n      <th>11</th>\n      <td>M</td>\n      <td>N</td>\n      <td>2</td>\n      <td>0.487</td>\n      <td>78</td>\n    </tr>\n    <tr>\n      <th>12</th>\n      <td>MCS</td>\n      <td>P</td>\n      <td>4</td>\n      <td>0.478</td>\n      <td>23</td>\n    </tr>\n    <tr>\n      <th>13</th>\n      <td>IMAX</td>\n      <td>P</td>\n      <td>1</td>\n      <td>0.478</td>\n      <td>157</td>\n    </tr>\n    <tr>\n      <th>14</th>\n      <td>AMD</td>\n      <td>N</td>\n      <td>1</td>\n      <td>0.459</td>\n      <td>157</td>\n    </tr>\n    <tr>\n      <th>15</th>\n      <td>WCLD</td>\n      <td>N</td>\n      <td>2</td>\n      <td>0.453</td>\n      <td>75</td>\n    </tr>\n    <tr>\n      <th>16</th>\n      <td>CNK</td>\n      <td>P</td>\n      <td>5</td>\n      <td>0.444</td>\n      <td>9</td>\n    </tr>\n    <tr>\n      <th>17</th>\n      <td>LYFT</td>\n      <td>N</td>\n      <td>2</td>\n      <td>0.443</td>\n      <td>88</td>\n    </tr>\n    <tr>\n      <th>18</th>\n      <td>MSFT</td>\n      <td>N</td>\n      <td>1</td>\n      <td>0.44</td>\n      <td>159</td>\n    </tr>\n    <tr>\n      <th>19</th>\n      <td>SPOT</td>\n      <td>N</td>\n      <td>1</td>\n      <td>0.424</td>\n      <td>151</td>\n    </tr>\n    <tr>\n      <th>20</th>\n      <td>NVDA</td>\n      <td>N</td>\n      <td>2</td>\n      <td>0.418</td>\n      <td>79</td>\n    </tr>\n    <tr>\n      <th>21</th>\n      <td>ARKQ</td>\n      <td>N</td>\n      <td>2</td>\n      <td>0.375</td>\n      <td>72</td>\n    </tr>\n    <tr>\n      <th>22</th>\n      <td>ANF</td>\n      <td>N</td>\n      <td>3</td>\n      <td>0.355</td>\n      <td>31</td>\n    </tr>\n  </tbody>\n</table>\n</div>"
     },
     "execution_count": 8,
     "metadata": {},
     "output_type": "execute_result"
    }
   ],
   "source": [
    "\n",
    "def matrix_of_Bayes(t):\n",
    "    \"\"\"\n",
    "    A function that loops over a list of stocks and returns a DataFrame containing the following information for each stock:\n",
    "    the last sequence of the stock's performance (whether it was positive or negative), the length of that sequence,\n",
    "    and the probability that the next day will be positive.\n",
    "\n",
    "    Parameters:\n",
    "        t (int): The option to consider for the current price.\n",
    "\n",
    "    Returns:\n",
    "        pandas.DataFrame: A DataFrame containing the information for each stock.\n",
    "    \"\"\"\n",
    "    dicy_bayes = pd.DataFrame.from_dict([{'Name': [], 'Seq': [],'Length of seq':[],'Prob':[],'N':[]}])# creat a relevant data frame\n",
    "    names_of_stocks = ['MSFT', 'AAPL', 'NVDA', 'AMZN', 'SPOT', 'DELL', 'ARKQ', 'BUG', 'WCLD', 'HACK', 'SBUX', 'RL', 'ANF',\n",
    "       'M', 'UBER', 'LYFT', 'BA', 'UAL', 'IMAX', 'MCS', 'CNK','UAL','AMD']\n",
    "    #names_of_stocks=['MSFT', 'AAPL', 'NVDA', 'AMZN', 'TSLA', 'SPOT','DELL', 'ARKQ', 'BUG', 'WCLD']\n",
    "\n",
    "    for i in range(len(names_of_stocks)): # run over the different stocks\n",
    "        dicy_bayes.loc[i]= calculate_Bayes(names_of_stocks[i],t=t) # update the dict with the relevant information\n",
    "    dicy_bayes=dicy_bayes.sort_values(by='Prob',ascending=False).reset_index(drop=True) # sort the dict by the prob for a positive day\n",
    "    return dicy_bayes\n",
    "matrix_of_Bayes(t=0)\n"
   ],
   "metadata": {
    "collapsed": false
   }
  }
 ],
 "metadata": {
  "kernelspec": {
   "display_name": "Python 3",
   "language": "python",
   "name": "python3"
  },
  "language_info": {
   "codemirror_mode": {
    "name": "ipython",
    "version": 2
   },
   "file_extension": ".py",
   "mimetype": "text/x-python",
   "name": "python",
   "nbconvert_exporter": "python",
   "pygments_lexer": "ipython2",
   "version": "2.7.6"
  }
 },
 "nbformat": 4,
 "nbformat_minor": 0
}
