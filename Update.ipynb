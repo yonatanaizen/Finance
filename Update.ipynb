{
 "cells": [
  {
   "cell_type": "markdown",
   "source": [
    "# Main\n",
    "In this file, I created a matrix that contains the current price of a stock and also determines its change"
   ],
   "metadata": {
    "collapsed": false
   }
  },
  {
   "cell_type": "code",
   "execution_count": 1,
   "metadata": {
    "collapsed": true
   },
   "outputs": [],
   "source": [
    "import pandas as pd\n",
    "import yfinance as yf\n",
    "import datetime as datetime"
   ]
  },
  {
   "cell_type": "code",
   "execution_count": 2,
   "outputs": [
    {
     "name": "stdout",
     "output_type": "stream",
     "text": [
      "[*********************100%***********************]  1 of 1 completed\n"
     ]
    },
    {
     "data": {
      "text/plain": "0    193.130005\n1    191.940002\n2    192.750000\n3    193.619995\n4    194.500000\n5    193.220001\n6    196.035004\nName: Close, dtype: float64"
     },
     "execution_count": 2,
     "metadata": {},
     "output_type": "execute_result"
    }
   ],
   "source": [
    "\n",
    "def adjust(stock,delta=8):\n",
    "    \"\"\"\n",
    "    A function that retrieves the historical close prices of a given stock.\n",
    "\n",
    "    Parameters:\n",
    "        stock (str): The stock name or ticker symbol.\n",
    "        delta (int): The number of days to go back in history from the current date. Default is 8.\n",
    "\n",
    "    Returns:\n",
    "        pandas.DataFrame: A DataFrame containing the close prices of the stock.\n",
    "    \"\"\"\n",
    "    stock=pd.DataFrame(yf.download(stock,start=datetime.date.today() -datetime.timedelta(days=delta))).reset_index() # creat_df\n",
    "    return(stock['Close'])\n",
    "\n",
    "result=adjust('aapl') # example of Apple stock\n",
    "result # show the result"
   ],
   "metadata": {
    "collapsed": false
   }
  },
  {
   "cell_type": "code",
   "execution_count": 3,
   "outputs": [
    {
     "name": "stdout",
     "output_type": "stream",
     "text": [
      "[*********************100%***********************]  1 of 1 completed\n",
      "[*********************100%***********************]  1 of 1 completed\n",
      "[*********************100%***********************]  1 of 1 completed\n",
      "[*********************100%***********************]  1 of 1 completed\n",
      "[*********************100%***********************]  1 of 1 completed\n",
      "[*********************100%***********************]  1 of 1 completed\n",
      "[*********************100%***********************]  1 of 1 completed\n",
      "[*********************100%***********************]  1 of 1 completed\n"
     ]
    },
    {
     "data": {
      "text/plain": "   Name  Change  Current Price\n0  AAPL   -0.66         193.22\n1  SPOT    0.35         145.02\n2  DELL    0.69          54.08\n3    RL    0.94         127.65\n4  MSFT    1.94         337.13\n5  NVDA    1.98         468.11\n6  AMZN    2.75         131.77\n7  AWAY    2.83          18.56",
      "text/html": "<div>\n<style scoped>\n    .dataframe tbody tr th:only-of-type {\n        vertical-align: middle;\n    }\n\n    .dataframe tbody tr th {\n        vertical-align: top;\n    }\n\n    .dataframe thead th {\n        text-align: right;\n    }\n</style>\n<table border=\"1\" class=\"dataframe\">\n  <thead>\n    <tr style=\"text-align: right;\">\n      <th></th>\n      <th>Name</th>\n      <th>Change</th>\n      <th>Current Price</th>\n    </tr>\n  </thead>\n  <tbody>\n    <tr>\n      <th>0</th>\n      <td>AAPL</td>\n      <td>-0.66</td>\n      <td>193.22</td>\n    </tr>\n    <tr>\n      <th>1</th>\n      <td>SPOT</td>\n      <td>0.35</td>\n      <td>145.02</td>\n    </tr>\n    <tr>\n      <th>2</th>\n      <td>DELL</td>\n      <td>0.69</td>\n      <td>54.08</td>\n    </tr>\n    <tr>\n      <th>3</th>\n      <td>RL</td>\n      <td>0.94</td>\n      <td>127.65</td>\n    </tr>\n    <tr>\n      <th>4</th>\n      <td>MSFT</td>\n      <td>1.94</td>\n      <td>337.13</td>\n    </tr>\n    <tr>\n      <th>5</th>\n      <td>NVDA</td>\n      <td>1.98</td>\n      <td>468.11</td>\n    </tr>\n    <tr>\n      <th>6</th>\n      <td>AMZN</td>\n      <td>2.75</td>\n      <td>131.77</td>\n    </tr>\n    <tr>\n      <th>7</th>\n      <td>AWAY</td>\n      <td>2.83</td>\n      <td>18.56</td>\n    </tr>\n  </tbody>\n</table>\n</div>"
     },
     "execution_count": 3,
     "metadata": {},
     "output_type": "execute_result"
    }
   ],
   "source": [
    "def matrix_current_change():\n",
    "    \"\"\"\n",
    "    A function that iterates over a list of stock names and generates a matrix with the current price, current change,\n",
    "    and name of each stock.\n",
    "\n",
    "    Returns:\n",
    "        pandas.DataFrame: A DataFrame comprising the current price, current change, and name of each stock.\n",
    "    \"\"\"\n",
    "    dict_of_stocks = {'Name': [], 'Change': [],'Current Price':[]}# creat a relevant dict\n",
    "    names_of_stocks = ['MSFT', 'AAPL', 'NVDA', 'AMZN','DELL','SPOT','RL','AWAY']\n",
    "    for i in names_of_stocks:\n",
    "        stock_change = adjust(i) # Adjust function is getting information about stock\n",
    "        dif_last_day=stock_change[len(stock_change)-1]-stock_change[len(stock_change)-2] #difference\n",
    "\n",
    "        day_change=100*(dif_last_day)/stock_change[len(stock_change)-2] # current change\n",
    "        dict_of_stocks['Name'].append(i) # append name\n",
    "        dict_of_stocks['Change'].append(round(day_change,2)) # append the change\n",
    "        dict_of_stocks['Current Price'].append(round(stock_change[len(stock_change)-1],2))\n",
    "    df = pd.DataFrame(data=dict_of_stocks).sort_values(by='Change').reset_index(drop=True) # convert the dict to data frame\n",
    "    return(df)\n",
    "matrix_current_change()\n",
    "\n"
   ],
   "metadata": {
    "collapsed": false
   }
  }
 ],
 "metadata": {
  "kernelspec": {
   "display_name": "Python 3",
   "language": "python",
   "name": "python3"
  },
  "language_info": {
   "codemirror_mode": {
    "name": "ipython",
    "version": 2
   },
   "file_extension": ".py",
   "mimetype": "text/x-python",
   "name": "python",
   "nbconvert_exporter": "python",
   "pygments_lexer": "ipython2",
   "version": "2.7.6"
  }
 },
 "nbformat": 4,
 "nbformat_minor": 0
}
